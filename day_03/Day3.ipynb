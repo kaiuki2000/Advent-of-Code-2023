{
 "cells": [
  {
   "cell_type": "markdown",
   "metadata": {},
   "source": [
    "<span style=\"color: green;\">Day 3 - Advent of Code 2023:</span>\n",
    "<br>--- Part 1: ---"
   ]
  },
  {
   "cell_type": "code",
   "execution_count": 13,
   "metadata": {},
   "outputs": [],
   "source": [
    "import sys; sys.path.insert(1, '..')\n",
    "from scanf.scanf import scanf\n",
    "import numpy as np\n",
    "\n",
    "with open('Input.txt', 'r') as file:\n",
    "    lines = file.readlines(); lines = [list(line.strip()) for line in lines]\n",
    "    for line in lines: line.append('.') # Kind-of \"zero-padding\" the lines, with a single '.' at the end.\n",
    "        \n",
    "# Returns the indices of the adjecent elements\n",
    "def Adjacent_indices(i: int, j: int) -> list[int]:\n",
    "    adjecent_list = []; # List to store the indices of the adjecent elements\n",
    "    for k in range(-1, 2):\n",
    "        for l in range(-1, 2):\n",
    "            if( (i+k >= 0) and (j+l >= 0) and (k != 0 or l != 0)): adjecent_list.append((i+k, j+l))\n",
    "    return adjecent_list\n",
    "\n",
    "# Changes the lines, according to the explanation in the 'Markdown' below:\n",
    "def Change_lines(lines: list[list[str]]) -> None:\n",
    "    s = ''\n",
    "    for line in lines:\n",
    "        for n in range(len(line)):\n",
    "            if(line[n].isalnum()): s += line[n]\n",
    "            else:\n",
    "                if(s != ''): line[n - len(s): n] = [s] * len(s); s = ''\n",
    "    return None\n",
    "\n",
    "Change_lines(lines)"
   ]
  },
  {
   "cell_type": "markdown",
   "metadata": {},
   "source": [
    "Transformation of the lines: (Example1.txt)\n",
    "\n",
    "<sub>\n",
    "\n",
    "| Original                                      | Transformed                                    |\n",
    "|-----------------------------------------------|------------------------------------------------|\n",
    "| [[4, 6, 7, ., ., 1, 1, 4, ., .],<br> [., ., ., *, ., ., ., ., ., .],<br> [., ., 3, 5, ., ., 6, 3, 3, .],<br> [., ., ., ., ., ., #, ., ., .],<br> [6, 1, 7, *, ., ., ., ., ., .],<br> [., ., ., ., ., +, ., 5, 8, .],<br> [., ., 5, 9, 2, ., ., ., ., .],<br> [., ., ., ., ., ., 7, 5, 5, .],<br> [., ., ., $, ., *, ., ., ., .],<br> [., 6, 6, 4, ., 5, 9, 8, ., .]] | [[467, 467, 467, ., ., 114, 114, 114, ., .],<br> [., ., ., *, ., ., ., ., ., .],<br> [., ., 35, 35, ., ., 633, 633, 633, .],<br> [., ., ., ., ., ., #, ., ., .],<br> [617, 617, 617, *, ., ., ., ., ., .],<br> [., ., ., ., ., +, ., 58, 58, .],<br> [., ., 592, 592, 592, ., ., ., ., .],<br> [., ., ., ., ., ., 755, 755, 755, .],<br> [., ., ., $, ., *, ., ., ., .],<br> [., 664, 664, 664, ., 598, 598, 598, ., .]] |\n",
    "\n",
    "</sub>\n",
    "\n",
    "<span style=\"font-size: 12px;\">Note: This solution kind of assumes that there will not be any repetitions of a number, in different adjacent positions, which might not always be true. Turns out it was true (Thank God!). If it weren't true, I would have to replace the already counted values by 0, as I go on, so as to not double/triple/... count.</span>\n"
   ]
  },
  {
   "cell_type": "code",
   "execution_count": 14,
   "metadata": {},
   "outputs": [
    {
     "name": "stdout",
     "output_type": "stream",
     "text": [
      "The sum of all of the gear ratios in my engine schematic is 540131.\n"
     ]
    }
   ],
   "source": [
    "Sum = 0\n",
    "for i in range(len(lines)):\n",
    "    line = lines[i];\n",
    "    for j in range(len(line)):\n",
    "        char = line[j];\n",
    "        if( (not char.isnumeric()) and (char != '.') ):\n",
    "            Adj_values = []; Adj = Adjacent_indices(i, j)\n",
    "            for position in Adj:\n",
    "                if(lines[position[0]][position[1]].isnumeric()): Adj_values.append(int(lines[position[0]][position[1]]))\n",
    "            Sum += sum(set(Adj_values))\n",
    "            # print(f'[Line {lines.index(line)}] {char} : {set(Adj_values)}; Sum-so-far = {Sum}.') # Debugging\n",
    "\n",
    "print(f'The sum of all of the gear ratios in my engine schematic is {Sum}.')"
   ]
  },
  {
   "cell_type": "markdown",
   "metadata": {},
   "source": [
    "--- Part 2 ---"
   ]
  },
  {
   "cell_type": "code",
   "execution_count": 15,
   "metadata": {},
   "outputs": [
    {
     "name": "stdout",
     "output_type": "stream",
     "text": [
      "The sum of all of the part numbers in the engine schematic is 86879020.\n"
     ]
    }
   ],
   "source": [
    "Sum = 0\n",
    "for i in range(len(lines)):\n",
    "    line = lines[i];\n",
    "    for j in range(len(line)):\n",
    "        char = line[j];\n",
    "        if( char == '*' ):\n",
    "            Adj_values = []; Adj = Adjacent_indices(i, j)\n",
    "            for position in Adj:\n",
    "                if(lines[position[0]][position[1]].isnumeric()): Adj_values.append(int(lines[position[0]][position[1]]))\n",
    "            if(len(set(Adj_values)) == 2): # 'Gear' condition\n",
    "                Sum += np.prod(list(set(Adj_values)))\n",
    "\n",
    "print(f'The sum of all of the part numbers in the engine schematic is {Sum}.')"
   ]
  }
 ],
 "metadata": {
  "kernelspec": {
   "display_name": "AoC_venv",
   "language": "python",
   "name": "python3"
  },
  "language_info": {
   "codemirror_mode": {
    "name": "ipython",
    "version": 3
   },
   "file_extension": ".py",
   "mimetype": "text/x-python",
   "name": "python",
   "nbconvert_exporter": "python",
   "pygments_lexer": "ipython3",
   "version": "3.11.5"
  }
 },
 "nbformat": 4,
 "nbformat_minor": 2
}
