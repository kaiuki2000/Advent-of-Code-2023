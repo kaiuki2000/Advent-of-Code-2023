{
 "cells": [
  {
   "cell_type": "markdown",
   "metadata": {},
   "source": [
    "<span style=\"color: green;\">Day 1 - Advent of Code 2023:</span>\n",
    "<br>--- Part 1: ---"
   ]
  },
  {
   "cell_type": "code",
   "execution_count": 2,
   "metadata": {},
   "outputs": [
    {
     "name": "stdout",
     "output_type": "stream",
     "text": [
      "Sum of calibration values = 54877\n"
     ]
    }
   ],
   "source": [
    "def get_Calibration_Value(string: str) -> int:\n",
    "    s       = ''.join(char for char in string if char.isdigit())\n",
    "    C_Value = int(s[0] + s[-1])\n",
    "    return C_Value\n",
    "\n",
    "Sum = 0\n",
    "with open('Input.txt', 'r') as file:\n",
    "    for line in file:\n",
    "        Sum += get_Calibration_Value(line)\n",
    "print(f'Sum of calibration values = {Sum}')"
   ]
  },
  {
   "cell_type": "markdown",
   "metadata": {},
   "source": [
    "--- Part 2: ---"
   ]
  },
  {
   "cell_type": "code",
   "execution_count": 88,
   "metadata": {},
   "outputs": [
    {
     "name": "stdout",
     "output_type": "stream",
     "text": [
      "Sum of calibration values = 54100\n"
     ]
    }
   ],
   "source": [
    "# Finds all the matches' positions, not just the first\n",
    "def find_all(a_str, sub):\n",
    "    start = 0\n",
    "    while True:\n",
    "        start = a_str.find(sub, start)\n",
    "        if start == -1: return\n",
    "        yield start\n",
    "        start += len(sub) # Use start += 1 to find overlapping matches\n",
    "\n",
    "# Replaces 'number_words' with their corresponding number\n",
    "def replace_digits(string: str) -> str:\n",
    "    number_words = ['one', 'two', 'three', 'four', 'five', 'six', 'seven', 'eight', 'nine']\n",
    "    digits       = [str(i) for i in range(1, 10)]; Together = number_words + digits\n",
    "    positions    = [list(find_all(string, digit)) for digit in Together]\n",
    "    Showers      = [(x, _) for _, x in zip(positions, Together) if _ != []]; # print(f'Showers = {Showers}')\n",
    "    Max_position = max([item for sublist in [Ele[1] for Ele in Showers] for item in sublist])\n",
    "    Numbers      = [None] * (Max_position + 1)\n",
    "    for Element in Showers:\n",
    "        for Index in Element[1]:\n",
    "            Numbers[Index] = Element[0]\n",
    "    Numbers = [x for x in Numbers if x is not None]; str_f = ''.join(Numbers); # print(f'Numbers = {Numbers}.')\n",
    "    for element in Numbers:\n",
    "        if element in number_words:\n",
    "            str_f = str_f.replace(element, digits[number_words.index(element)])\n",
    "    return str_f\n",
    "\n",
    "# Replace digits with their corresponding number\n",
    "Sum = 0\n",
    "with open('Input.txt', 'r') as file:\n",
    "    for line in file:\n",
    "        new_line = replace_digits(line.strip())\n",
    "        # print(f'Line = {line.strip()} -> {new_line}; C_Value = {get_Calibration_Value(new_line)}.') # Debugging\n",
    "        Sum += get_Calibration_Value(new_line)\n",
    "print(f'Sum of calibration values = {Sum}')"
   ]
  }
 ],
 "metadata": {
  "kernelspec": {
   "display_name": "AoC_venv",
   "language": "python",
   "name": "python3"
  },
  "language_info": {
   "codemirror_mode": {
    "name": "ipython",
    "version": 3
   },
   "file_extension": ".py",
   "mimetype": "text/x-python",
   "name": "python",
   "nbconvert_exporter": "python",
   "pygments_lexer": "ipython3",
   "version": "3.11.5"
  }
 },
 "nbformat": 4,
 "nbformat_minor": 2
}
