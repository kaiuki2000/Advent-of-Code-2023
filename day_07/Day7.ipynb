{
 "cells": [
  {
   "cell_type": "markdown",
   "metadata": {},
   "source": [
    "<span style=\"color: green;\">Day 7 - Advent of Code 2023:</span>\n",
    "<br>--- Part 1&2: ---"
   ]
  },
  {
   "cell_type": "code",
   "execution_count": 262,
   "metadata": {},
   "outputs": [
    {
     "name": "stdout",
     "output_type": "stream",
     "text": [
      "Total winnings = 250825971.\n"
     ]
    }
   ],
   "source": [
    "from collections import Counter, defaultdict\n",
    "\n",
    "# Definitions:\n",
    "PART_1     = False # Set to True for part 1, False for part 2\n",
    "NEW_VALUES = {v: i for i, v in enumerate(\"J23456789TQKA\", 1)}\n",
    "VALUES     = {v: i for i, v in enumerate(\"23456789TJQKA\", 2)}\n",
    "TYPES      = [\"High card\", \"Pair\", \"Two pair\", \"Three of a kind\", \\\n",
    "             \"Full house\", \"Four of a kind\", \"Five of a kind\"]\n",
    "\n",
    "# Class to represent a hand of cards\n",
    "class Camel_hand:\n",
    "    def __init__(self, hand, bid):\n",
    "        self.hand, self.bid = hand, bid\n",
    "        self.type = self.get_type()\n",
    "\n",
    "    # Overloading the comparison operator >, so I can sort the hands in each type by their values\n",
    "    def __gt__(self, other):\n",
    "        # Only use this if you want to compare two hands of the same type\n",
    "        V = VALUES if PART_1 else NEW_VALUES\n",
    "        for a, b in zip(self.hand, other.hand):\n",
    "            if V[a] != V[b]:\n",
    "                return V[a] > V[b]\n",
    "\n",
    "    def get_type(self):\n",
    "        if(PART_1): counts = dict(Counter(self.hand))\n",
    "        else:       counts = dict(Counter(self.hand.replace('J', ''))); self.J = self.hand.count('J')\n",
    "        try:\n",
    "            match max(counts.values()):\n",
    "                case 5: return \"Five of a kind\"\n",
    "                case 4: return \"Four of a kind\"\n",
    "                case 3: return \"Full house\" if 2 in counts.values() else \"Three of a kind\"\n",
    "                case 2: \n",
    "                    if(PART_1): return \"Pair\" if len(counts.values()) > 3 else \"Two pair\"\n",
    "                    else:       return \"Pair\" if len(counts.values()) > (3 - self.J) else \"Two pair\"\n",
    "                case _: return \"High card\"\n",
    "        except ValueError: return \"Five of a kind\" # This is the 'JJJJJ' case, in part 2\n",
    "\n",
    "    def transform(self):\n",
    "        # This is only used for part 2\n",
    "        match self.J:\n",
    "            case 0: pass\n",
    "            case 1: self.type = TYPES[TYPES.index(self.type) + 1] \\\n",
    "                if self.type in ['High card', 'Full house', 'Four of a kind'] \\\n",
    "                else TYPES[TYPES.index(self.type) + 2]\n",
    "            case 2: self.type = TYPES[TYPES.index(self.type) + 4] \\\n",
    "                if self.type == 'Pair' \\\n",
    "                else TYPES[TYPES.index(self.type) + 3]\n",
    "            case 3: self.type = 'Four of a kind' if self.type == 'High card' else 'Five of a kind'\n",
    "            case 4: self.type = 'Five of a kind'\n",
    "\n",
    "# Implementation:\n",
    "Camel_hands = defaultdict(lambda: []); winnings, rank = 0, 1\n",
    "with open('Input.txt', 'r') as file:\n",
    "    for line in file:\n",
    "        L = line.split()\n",
    "        C = Camel_hand(L[0], L[1])\n",
    "        if(not PART_1): C.transform() # This is only used for part 2\n",
    "        Camel_hands[C.type].append(C)\n",
    "\n",
    "# Sorting the hands in each type by their values\n",
    "Camel_hands = {k: sorted(v, reverse = False) for k, v in Camel_hands.items()}\n",
    "\n",
    "# Calculating the winnings\n",
    "for hand_type in TYPES:\n",
    "    try:\n",
    "        for hand in Camel_hands[hand_type]: winnings += int(hand.bid) * rank; rank += 1\n",
    "    except KeyError: pass\n",
    "        \n",
    "print(f'Total winnings = {winnings}.')"
   ]
  }
 ],
 "metadata": {
  "kernelspec": {
   "display_name": "AoC_venv",
   "language": "python",
   "name": "python3"
  },
  "language_info": {
   "codemirror_mode": {
    "name": "ipython",
    "version": 3
   },
   "file_extension": ".py",
   "mimetype": "text/x-python",
   "name": "python",
   "nbconvert_exporter": "python",
   "pygments_lexer": "ipython3",
   "version": "3.11.5"
  }
 },
 "nbformat": 4,
 "nbformat_minor": 2
}
