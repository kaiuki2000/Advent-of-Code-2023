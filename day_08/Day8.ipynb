{
 "cells": [
  {
   "cell_type": "markdown",
   "metadata": {},
   "source": [
    "<span style=\"color: green;\">Day 8 - Advent of Code 2023:</span>\n",
    "<br>--- Part 1: ---"
   ]
  },
  {
   "cell_type": "code",
   "execution_count": 113,
   "metadata": {},
   "outputs": [
    {
     "name": "stdout",
     "output_type": "stream",
     "text": [
      "Final position is ZZZ, after 11309 steps.\n"
     ]
    }
   ],
   "source": [
    "from collections import defaultdict\n",
    "with open('Input.txt', 'r') as file:\n",
    "    L     = file.read().splitlines()\n",
    "    LR, N = L[0], L[2:]\n",
    "d = defaultdict(lambda: [])\n",
    "for i in N: x = i.split(' = '); d[x[0]] = (x[1][1:4], x[1][6:9])\n",
    "\n",
    "P, c = 'AAA', 0    # This condition should actually be tested after each move, not after each LR cycle.\n",
    "while(P != 'ZZZ'): # But this worked, although by pure \"chance\", so I'm not going to change it ;P\n",
    "    for direction in LR:\n",
    "        if direction == 'R': P = d[P][1]; c += 1\n",
    "        else:                P = d[P][0]; c += 1\n",
    "print(f'Final position is {P}, after {c} steps.')"
   ]
  },
  {
   "cell_type": "markdown",
   "metadata": {},
   "source": [
    "--- Part 2: ---\n",
    "\n",
    "<font size=\"3\">\n",
    "\n",
    "Strategy:\n",
    "- These go in cycles;\n",
    "- Obtain how many steps are needed for each initial position;\n",
    "- Then, find the least common multiple of all of them.\n",
    "\n",
    "</font>\n"
   ]
  },
  {
   "cell_type": "code",
   "execution_count": 114,
   "metadata": {},
   "outputs": [
    {
     "name": "stdout",
     "output_type": "stream",
     "text": [
      "Required number of steps = 13740108158591.\n"
     ]
    }
   ],
   "source": [
    "import math\n",
    "\n",
    "# This function is taken from https://www.geeksforgeeks.org/program-to-find-lcm-of-two-numbers/\n",
    "def compute_lcm(numbers):\n",
    "    lcm = numbers[0]\n",
    "    for i in range(1, len(numbers)):\n",
    "        lcm = (lcm * numbers[i]) // math.gcd(lcm, numbers[i])\n",
    "    return lcm\n",
    "\n",
    "P, c, ctr = [A for A in d.keys() if A[-1] == 'A'], [], 0\n",
    "for p in P:\n",
    "    F = True\n",
    "    while(F):\n",
    "        for direction in LR:\n",
    "            if direction == 'R': p = d[p][1]; ctr += 1\n",
    "            else:                p = d[p][0]; ctr += 1\n",
    "            if(p[-1] == 'Z'): c.append(ctr);  ctr  = 0; F = False; break\n",
    "\n",
    "print(f'Required number of steps = {compute_lcm(c)}.')"
   ]
  }
 ],
 "metadata": {
  "kernelspec": {
   "display_name": "AoC_venv",
   "language": "python",
   "name": "python3"
  },
  "language_info": {
   "codemirror_mode": {
    "name": "ipython",
    "version": 3
   },
   "file_extension": ".py",
   "mimetype": "text/x-python",
   "name": "python",
   "nbconvert_exporter": "python",
   "pygments_lexer": "ipython3",
   "version": "3.11.5"
  }
 },
 "nbformat": 4,
 "nbformat_minor": 2
}
