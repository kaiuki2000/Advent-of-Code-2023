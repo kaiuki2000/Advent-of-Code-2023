{
 "cells": [
  {
   "cell_type": "markdown",
   "metadata": {},
   "source": [
    "<span style=\"color: green;\">Day 5 - Advent of Code 2023:</span>\n",
    "<br>--- Part 1: ---"
   ]
  },
  {
   "cell_type": "code",
   "execution_count": 6,
   "metadata": {},
   "outputs": [
    {
     "name": "stdout",
     "output_type": "stream",
     "text": [
      "Minimum final position: 88151870.\n"
     ]
    }
   ],
   "source": [
    "# Reading input:\n",
    "with open('Input.txt', 'r') as file:\n",
    "    lines = file.read().splitlines()\n",
    "\n",
    "# Determining the seeds:\n",
    "seeds = [int(num) for num in lines[0].split()[1:]]\n",
    "\n",
    "# Determining the final positions:\n",
    "final_pos = []\n",
    "for seed in seeds:\n",
    "    pos = seed; matched_flag = False\n",
    "    for line in lines[2:]:\n",
    "        try:\n",
    "            if( (line[0].isnumeric()) and (matched_flag == False) ):\n",
    "                list_ = [int(num) for num in line.split()]\n",
    "                if( pos in range(list_[1], list_[1] + list_[2]) ):\n",
    "                    pos += (list_[0] - list_[1]); matched_flag = True\n",
    "        except: matched_flag = False # Case where we find line = ''.\n",
    "    final_pos.append(pos)\n",
    "\n",
    "# Printing minimum final position:\n",
    "print(f'Minimum final position: {min(final_pos)}.')"
   ]
  },
  {
   "cell_type": "markdown",
   "metadata": {},
   "source": [
    "<br>--- Part 2: ---"
   ]
  },
  {
   "cell_type": "code",
   "execution_count": 7,
   "metadata": {},
   "outputs": [
    {
     "name": "stdout",
     "output_type": "stream",
     "text": [
      "Smallest final position = 2008785.\n"
     ]
    }
   ],
   "source": [
    "# I want to reverse the mapping function, i.e., I want to find the seed that maps to the smallest number.\n",
    "# Just reverse the problem.\n",
    "\n",
    "# Seed ranges, from input:\n",
    "def seed_ranges(seeds):\n",
    "    ranges = []; j = 0\n",
    "    for i in range(len(seeds) // 2):\n",
    "        ranges.append( [seeds[j], seeds[j] + seeds[j + 1]] ); j+=2\n",
    "    return ranges\n",
    "\n",
    "# Reading input (lines are reversed!):\n",
    "with open('Input.txt', 'r') as file:\n",
    "    lines = file.read().splitlines()[::-1]\n",
    "\n",
    "# Returns the seed corresponding to a certain final location\n",
    "def invert(final_loc):    \n",
    "    pos = final_loc; matched_flag = False;\n",
    "    for line in lines[:-3]:\n",
    "        try:\n",
    "            if( (line[0].isnumeric()) and (matched_flag == False) ):\n",
    "                list_ = [int(num) for num in line.split()]\n",
    "                if( pos in range(list_[0], list_[0] + list_[2]) ):\n",
    "                    pos -= (list_[0] - list_[1]); matched_flag = True\n",
    "        except: matched_flag = False # Case where we find line = ''.\n",
    "    return pos\n",
    "\n",
    "# Determining the seed ranges:\n",
    "ranges = seed_ranges(seeds)\n",
    "\n",
    "# Returns True if a seed is in the input; False otherwise.\n",
    "def seed_in_input(seed, ranges):\n",
    "    for range_ in ranges:\n",
    "        if(seed in range(range_[0], range_[1])):\n",
    "            return True\n",
    "    return False\n",
    "\n",
    "# Finding the seed: (A bit of trial and error, starting from the smallest possible final location, and moving upwards.)\n",
    "for pos in range(0, 24_111_266):\n",
    "    if(seed_in_input(invert(pos), ranges)):\n",
    "        print(f'Smallest final position = {pos}.')\n",
    "        break\n",
    "\n",
    "# This took like 7 minutes to run, lol. Not very satisfactory, but I guess it works."
   ]
  }
 ],
 "metadata": {
  "kernelspec": {
   "display_name": "AoC_venv",
   "language": "python",
   "name": "python3"
  },
  "language_info": {
   "codemirror_mode": {
    "name": "ipython",
    "version": 3
   },
   "file_extension": ".py",
   "mimetype": "text/x-python",
   "name": "python",
   "nbconvert_exporter": "python",
   "pygments_lexer": "ipython3",
   "version": "3.11.5"
  }
 },
 "nbformat": 4,
 "nbformat_minor": 2
}
