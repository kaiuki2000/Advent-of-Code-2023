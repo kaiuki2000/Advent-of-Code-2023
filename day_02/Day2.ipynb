{
 "cells": [
  {
   "cell_type": "markdown",
   "metadata": {},
   "source": [
    "<span style=\"color: green;\">Day 2 - Advent of Code 2023:</span>"
   ]
  },
  {
   "cell_type": "code",
   "execution_count": 1,
   "metadata": {},
   "outputs": [],
   "source": [
    "import sys; sys.path.insert(1, '..')\n",
    "from scanf.scanf import scanf\n",
    "\n",
    "# Part 1 function:\n",
    "def check_game_validity(scanf_result: tuple, silent: bool) -> int:\n",
    "    \"\"\"\n",
    "    This function checks the validity of a game.\n",
    "    It returns the game ID if the game is valid.\n",
    "    Otherwise, it returns 0.\n",
    "    \"\"\"\n",
    "    n_red   = 12; n_green = 13; n_blue = 14 # Maximum number of cubes of each colour\n",
    "    values  = scanf_result[1::2]            # Reading the values\n",
    "    colours = scanf_result[2::2]            # Reading their corresponding colours\n",
    "    for c_value, colour in zip(values, colours):\n",
    "        match colour[0]:\n",
    "            case 'r': n = n_red             # Matching the colour to red\n",
    "            case 'g': n = n_green           # Matching the colour to green\n",
    "            case 'b': n = n_blue            # Matching the colour to blue\n",
    "            case _: print(\"Error occured in the reading!\")\n",
    "        if(c_value > n):\n",
    "            if(not silent): print(f'[Game ID = {scanf_result[0]}]: c_value = {c_value} > n = {n} -> This game is invalid!')\n",
    "            return 0\n",
    "    return scanf_result[0]\n",
    "\n",
    "# Part 2 function:\n",
    "def determine_fewest_cubes(scanf_result: tuple, silent: bool) -> int:\n",
    "    \"\"\"\n",
    "    This function determines the fewest number of cubes of each colour.\n",
    "    It returns the power of the set of cubes.\n",
    "    \"\"\"\n",
    "    n_r     = 0; n_g = 0; n_b = 0 # Minimum number of cubes of each colour\n",
    "    values  = scanf_result[1::2]  # Reading the values\n",
    "    colours = scanf_result[2::2]  # Reading their corresponding colours\n",
    "    for c_value, colour in zip(values, colours):\n",
    "        match colour[0]:\n",
    "            case 'r':             # Matching the colour to red\n",
    "                if(c_value > n_r): n_r = c_value \n",
    "            case 'g':             # Matching the colour to green\n",
    "                if(c_value > n_g): n_g = c_value\n",
    "            case 'b':             # Matching the colour to blue\n",
    "                if(c_value > n_b): n_b = c_value\n",
    "            case _: print(\"Error occured in the reading!\")\n",
    "    power = n_r * n_g * n_b       # The power of this set of cubes\n",
    "    if(not silent): print(f'Fewest number of cubes of each colour = (r, g, b) = ({n_r}, {n_g}, {n_b}); power = {power}.')\n",
    "    return power"
   ]
  },
  {
   "cell_type": "markdown",
   "metadata": {},
   "source": [
    "--- Part 1: ---"
   ]
  },
  {
   "cell_type": "code",
   "execution_count": 2,
   "metadata": {},
   "outputs": [
    {
     "name": "stdout",
     "output_type": "stream",
     "text": [
      "The sum of the valid games' IDs is 2447.\n"
     ]
    }
   ],
   "source": [
    "Sum = 0\n",
    "with open('Input.txt', 'r') as file:\n",
    "    for line in file:\n",
    "        string  = line.strip()\n",
    "        pattern = \"Game %d:\" + \" %d %s\" * ( (len(string.split(' ')) - 2) // 2)\n",
    "        Sum    += check_game_validity(scanf(pattern, string), silent = True)\n",
    "print(f'The sum of the valid games\\' IDs is {Sum}.')"
   ]
  },
  {
   "cell_type": "markdown",
   "metadata": {},
   "source": [
    "--- Part 2: ---"
   ]
  },
  {
   "cell_type": "code",
   "execution_count": 3,
   "metadata": {},
   "outputs": [
    {
     "name": "stdout",
     "output_type": "stream",
     "text": [
      "The sum of powers is 56322.\n"
     ]
    }
   ],
   "source": [
    "Sum = 0\n",
    "with open('Input.txt', 'r') as file:\n",
    "    for line in file:\n",
    "        string  = line.strip()\n",
    "        pattern = \"Game %d:\" + \" %d %s\" * ( (len(string.split(' ')) - 2) // 2)\n",
    "        Sum    += determine_fewest_cubes(scanf(pattern, string), silent = True)\n",
    "print(f'The sum of powers is {Sum}.')"
   ]
  }
 ],
 "metadata": {
  "kernelspec": {
   "display_name": "AoC_venv",
   "language": "python",
   "name": "python3"
  },
  "language_info": {
   "codemirror_mode": {
    "name": "ipython",
    "version": 3
   },
   "file_extension": ".py",
   "mimetype": "text/x-python",
   "name": "python",
   "nbconvert_exporter": "python",
   "pygments_lexer": "ipython3",
   "version": "3.11.5"
  }
 },
 "nbformat": 4,
 "nbformat_minor": 2
}
