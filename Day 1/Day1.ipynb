{
 "cells": [
  {
   "cell_type": "markdown",
   "metadata": {},
   "source": [
    "<span style=\"color: green;\">Day 1 - Advent of Code 2023</span>\n",
    "<br>--- Part 1: ---"
   ]
  },
  {
   "cell_type": "code",
   "execution_count": 2,
   "metadata": {},
   "outputs": [
    {
     "name": "stdout",
     "output_type": "stream",
     "text": [
      "Sum of calibration values = 54877\n"
     ]
    }
   ],
   "source": [
    "def get_Calibration_Value(string: str) -> int:\n",
    "    s       = ''.join(char for char in string if char.isdigit())\n",
    "    C_Value = int(s[0] + s[-1])\n",
    "    return C_Value\n",
    "\n",
    "Sum = 0\n",
    "with open('Input.txt', 'r') as file:\n",
    "    for line in file:\n",
    "        Sum += get_Calibration_Value(line)\n",
    "print(f'Sum of calibration values = {Sum}')\n"
   ]
  },
  {
   "cell_type": "markdown",
   "metadata": {},
   "source": [
    "--- Part 2: ---"
   ]
  },
  {
   "cell_type": "code",
   "execution_count": 88,
   "metadata": {},
   "outputs": [
    {
     "name": "stdout",
     "output_type": "stream",
     "text": [
      "Sum of calibration values = 54100\n"
     ]
    }
   ],
   "source": [
    "# Finds all the matches' positions, not just the first\n",
    "def find_all(a_str, sub):\n",
    "    start = 0\n",
    "    while True:\n",
    "        start = a_str.find(sub, start)\n",
    "        if start == -1: return\n",
    "        yield start\n",
    "        start += len(sub) # Use start += 1 to find overlapping matches\n",
    "\n",
    "# Replaces 'number_words' with their corresponding number\n",
    "def replace_digits(string: str) -> str:\n",
    "    number_words = ['one', 'two', 'three', 'four', 'five', 'six', 'seven', 'eight', 'nine']\n",
    "    digits       = [str(i) for i in range(1, 10)]; Together = number_words + digits\n",
    "    positions    = [list(find_all(string, digit)) for digit in Together]\n",
    "    Showers      = [(x, _) for _, x in zip(positions, Together) if _ != []]; # print(f'Showers = {Showers}')\n",
    "    Max_position = max([item for sublist in [Ele[1] for Ele in Showers] for item in sublist]);\n",
    "    Numbers      = [None] * (Max_position + 1)\n",
    "    for Element in Showers:\n",
    "        for Index in Element[1]:\n",
    "            Numbers[Index] = Element[0]\n",
    "    Numbers = [x for x in Numbers if x is not None]; str_f = ''.join(Numbers); # print(f'Numbers = {Numbers}.')\n",
    "    for element in Numbers:\n",
    "        if element in number_words:\n",
    "            str_f = str_f.replace(element, digits[number_words.index(element)])\n",
    "    return str_f\n",
    "\n",
    "# Replace digits with their corresponding number\n",
    "Sum = 0\n",
    "with open('Input.txt', 'r') as file:\n",
    "    for line in file:\n",
    "        new_line = replace_digits(line.strip())\n",
    "        # print(f'Line = {line.strip()} -> {new_line}; C_Value = {get_Calibration_Value(new_line)}.') # Debugging\n",
    "        Sum += get_Calibration_Value(new_line)\n",
    "print(f'Sum of calibration values = {Sum}')"
   ]
  },
  {
   "cell_type": "code",
   "execution_count": null,
   "metadata": {},
   "outputs": [],
   "source": [
    "# This one doesn't work, because it doesn't consider repetitions of the same digit!\n",
    "def replace_digits(string: str) -> str:\n",
    "    number_words = ['one', 'two', 'three', 'four', 'five', 'six', 'seven', 'eight', 'nine']\n",
    "    digits       = [str(i) for i in range(1, 10)]; Together = number_words + digits\n",
    "    order        = [string.find(digit) for digit in Together]\n",
    "    Showers      = [x for _, x in sorted(zip(order, Together)) if _ != -1]\n",
    "    r_string     = ''.join(Showers)\n",
    "    for element in Showers:\n",
    "        if element in number_words:\n",
    "            r_string = r_string.replace(element, digits[number_words.index(element)])\n",
    "    return r_string\n",
    "\n",
    "# Replace digits with their corresponding number\n",
    "Sum = 0\n",
    "with open('Input.txt', 'r') as file:\n",
    "    for line in file:\n",
    "        new_line = replace_digits(line.strip())\n",
    "        print(f'Line = {line.strip()} -> {new_line}; C_Value = {get_Calibration_Value(new_line)}.') # Debugging\n",
    "        Sum += get_Calibration_Value(new_line)\n",
    "print(f'Sum of calibration values = {Sum}')"
   ]
  },
  {
   "cell_type": "code",
   "execution_count": 182,
   "metadata": {},
   "outputs": [
    {
     "name": "stdout",
     "output_type": "stream",
     "text": [
      "Sum of calibration values = 54079\n"
     ]
    }
   ],
   "source": [
    "# This method doesn't work for cases like: '65oneightpln' -> Should be '6518pln' (NOT '651eightpln', like this gives...)\n",
    "def replace_digits(string: str, digits: list) -> str:\n",
    "    order   = [string.find(digit) for digit in digits]\n",
    "    Showers = [(x, str(digits.index(x) + 1)) for _, x in sorted(zip(order, digits)) if _ != -1]\n",
    "\n",
    "    # Tracker variables\n",
    "    reverse = False; counter = 0; i = 0\n",
    "    # This cycle is weird because I run: 1st Element -> Last Element -> 2nd Element -> Second to Last Element -> ...\n",
    "    try:\n",
    "        while(1):\n",
    "            if(not reverse):\n",
    "                string = string.replace(Showers[i][0], Showers[i][1])\n",
    "                reverse = True; i += 1; counter += 1\n",
    "            else:\n",
    "                string = string.replace(Showers[-i][0], Showers[-i][1])\n",
    "                reverse = False; counter += 1\n",
    "            if(counter == len(Showers)): break\n",
    "    except IndexError:\n",
    "        pass\n",
    "    return string\n",
    "\n",
    "# Replace digits with their corresponding number\n",
    "digits = ['one', 'two', 'three', 'four', 'five', 'six', 'seven', 'eight', 'nine']; Sum = 0\n",
    "with open('Input.txt', 'r') as file:\n",
    "    for line in file:\n",
    "        line = replace_digits(line, digits) \n",
    "        Sum += get_Calibration_Value(line)\n",
    "print(f'Sum of calibration values = {Sum}')"
   ]
  }
 ],
 "metadata": {
  "kernelspec": {
   "display_name": "AoC_venv",
   "language": "python",
   "name": "python3"
  },
  "language_info": {
   "codemirror_mode": {
    "name": "ipython",
    "version": 3
   },
   "file_extension": ".py",
   "mimetype": "text/x-python",
   "name": "python",
   "nbconvert_exporter": "python",
   "pygments_lexer": "ipython3",
   "version": "3.11.5"
  }
 },
 "nbformat": 4,
 "nbformat_minor": 2
}
