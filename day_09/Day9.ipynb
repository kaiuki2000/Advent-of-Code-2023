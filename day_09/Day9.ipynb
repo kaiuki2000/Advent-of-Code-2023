{
 "cells": [
  {
   "cell_type": "markdown",
   "metadata": {},
   "source": [
    "<span style=\"color: green;\">Day 9 - Advent of Code 2023:</span>\n",
    "<br>--- Part 1&2: ---"
   ]
  },
  {
   "cell_type": "code",
   "execution_count": 280,
   "metadata": {},
   "outputs": [
    {
     "name": "stdout",
     "output_type": "stream",
     "text": [
      "[Part 1] Sum of the extrapolated values = 1581679977.\n",
      "[Part 2] Sum of the extrapolated values = 889.\n"
     ]
    }
   ],
   "source": [
    "import numpy as np\n",
    "L, R = [], []\n",
    "with open('Input.txt', 'r') as file:\n",
    "    for line in file: L.append([int(num) for num in line.split()])\n",
    "\n",
    "# Function for part 1\n",
    "def P1(L):\n",
    "    E = []\n",
    "    for l in L:\n",
    "        V = [l[-1]]\n",
    "        while(not all(n == 0 for n in l)):\n",
    "            l = np.diff(l)\n",
    "            V.append(l[-1])\n",
    "        E.append(sum(V))\n",
    "    print(f'[Part 1] Sum of the extrapolated values = {sum(E)}.')\n",
    "\n",
    "# Function for part 2\n",
    "def P2(L):\n",
    "    E = []\n",
    "    for l in L:\n",
    "        V = [l[0]]\n",
    "        while(not all(n == 0 for n in l)):\n",
    "            l = np.diff(l)\n",
    "            V.append(l[0])\n",
    "        f = lambda x: sum([n if i%2 == 0 else -n for i, n in enumerate(x)])\n",
    "        E.append(f(V))\n",
    "    print(f'[Part 2] Sum of the extrapolated values = {sum(E)}.')\n",
    "\n",
    "# Run functions\n",
    "P1(L); P2(L)"
   ]
  }
 ],
 "metadata": {
  "kernelspec": {
   "display_name": "AoC_venv",
   "language": "python",
   "name": "python3"
  },
  "language_info": {
   "codemirror_mode": {
    "name": "ipython",
    "version": 3
   },
   "file_extension": ".py",
   "mimetype": "text/x-python",
   "name": "python",
   "nbconvert_exporter": "python",
   "pygments_lexer": "ipython3",
   "version": "3.11.5"
  }
 },
 "nbformat": 4,
 "nbformat_minor": 2
}
