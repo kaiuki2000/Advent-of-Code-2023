{
 "cells": [
  {
   "cell_type": "markdown",
   "metadata": {},
   "source": [
    "<span style=\"color: green;\">Day 4 - Advent of Code 2023:</span>"
   ]
  },
  {
   "cell_type": "code",
   "execution_count": 44,
   "metadata": {},
   "outputs": [],
   "source": [
    "import sys; sys.path.insert(1, '..')\n",
    "from scanf.scanf import scanf\n",
    "\n",
    "def check_ticket(line, part):\n",
    "    # Remove the card number and the word 'Card':\n",
    "    ticket = line.split()[2:]\n",
    "\n",
    "    # Get the winning numbers and my numbers:\n",
    "    winning_numbers = set( int(num) for num in ticket[:ticket.index('|')]     ); # print(f'Winning numbers = {winning_numbers}.')\n",
    "    my_numbers      = set( int(num) for num in ticket[ticket.index('|') + 1:] ); # print(f'My numbers = {my_numbers}.\\n')\n",
    "\n",
    "    # Check winnings:\n",
    "    n = 0\n",
    "    for number in winning_numbers:\n",
    "        if number in my_numbers: n += 1\n",
    "    if(part == 1): return 2**(n - 1) if n > 0 else 0\n",
    "    else:          return n"
   ]
  },
  {
   "cell_type": "markdown",
   "metadata": {},
   "source": [
    "--- Part 1: ---"
   ]
  },
  {
   "cell_type": "code",
   "execution_count": 45,
   "metadata": {},
   "outputs": [
    {
     "name": "stdout",
     "output_type": "stream",
     "text": [
      "Total number of points = 26426.\n"
     ]
    }
   ],
   "source": [
    "# Reading input:\n",
    "with open('Input.txt', 'r') as file:\n",
    "    lines = file.read().splitlines()\n",
    "Sum = 0\n",
    "for line in lines: Sum += check_ticket(line, part = 1)\n",
    "print(f'Total number of points = {Sum}.')"
   ]
  },
  {
   "cell_type": "markdown",
   "metadata": {},
   "source": [
    "--- Part 2: ---"
   ]
  },
  {
   "cell_type": "code",
   "execution_count": 46,
   "metadata": {},
   "outputs": [
    {
     "name": "stdout",
     "output_type": "stream",
     "text": [
      "Total number of scratch cards = 6227972.\n"
     ]
    }
   ],
   "source": [
    "# Storing the number of scratch cards, of each type/number\n",
    "cards = [1] * len(lines)\n",
    "\n",
    "# Loop for checking the scratch cards/add more cards:\n",
    "for i, line in enumerate(lines):\n",
    "    n = check_ticket(line, part = 2)\n",
    "    for r in range(cards[i]):\n",
    "        for j in range(n):\n",
    "            cards[i + 1 + j] += 1\n",
    "print(f'Total number of scratch cards = {sum(cards)}.')"
   ]
  }
 ],
 "metadata": {
  "kernelspec": {
   "display_name": "AoC_venv",
   "language": "python",
   "name": "python3"
  },
  "language_info": {
   "codemirror_mode": {
    "name": "ipython",
    "version": 3
   },
   "file_extension": ".py",
   "mimetype": "text/x-python",
   "name": "python",
   "nbconvert_exporter": "python",
   "pygments_lexer": "ipython3",
   "version": "3.11.5"
  }
 },
 "nbformat": 4,
 "nbformat_minor": 2
}
