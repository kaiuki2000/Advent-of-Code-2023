{
 "cells": [
  {
   "cell_type": "markdown",
   "metadata": {},
   "source": [
    "<span style=\"color: green;\">Day 6 - Advent of Code 2023:</span>\n",
    "<br>--- Part 1: ---"
   ]
  },
  {
   "cell_type": "code",
   "execution_count": 1,
   "metadata": {},
   "outputs": [
    {
     "name": "stdout",
     "output_type": "stream",
     "text": [
      "Result = 1660968.\n"
     ]
    }
   ],
   "source": [
    "with open('Input.txt', 'r') as file:\n",
    "    T = [ int(t) for t in file.readline().split()[1:] ]\n",
    "    L = [ int(dist) for dist in file.readline().split()[1:] ]\n",
    "\n",
    "result = 1\n",
    "assert len(T) == len(L), \"T and L must have the same length\"\n",
    "for race in range(len(T)):\n",
    "    win = 0\n",
    "    for t in range(T[race] + 1):\n",
    "        dist = t * (T[race] - t)\n",
    "        if(dist > L[race]): win += 1\n",
    "    result *= win\n",
    "print(f'Result = {result}.')\n"
   ]
  },
  {
   "cell_type": "markdown",
   "metadata": {},
   "source": [
    "<br>--- Part 2: ---\n"
   ]
  },
  {
   "cell_type": "code",
   "execution_count": 2,
   "metadata": {},
   "outputs": [
    {
     "name": "stdout",
     "output_type": "stream",
     "text": [
      "Number of ways to win = 26499773.\n"
     ]
    }
   ],
   "source": [
    "with open('Input.txt', 'r') as file:\n",
    "    T = int( ''.join(file.readline().split()[1:]) )\n",
    "    L = int( ''.join(file.readline().split()[1:]) )\n",
    "\n",
    "win = 0\n",
    "for t in range(T + 1):\n",
    "    dist = t * (T - t)\n",
    "    if(dist > L): win += 1\n",
    "print(f'Number of ways to win = {win}.')"
   ]
  }
 ],
 "metadata": {
  "kernelspec": {
   "display_name": "AoC_venv",
   "language": "python",
   "name": "python3"
  },
  "language_info": {
   "codemirror_mode": {
    "name": "ipython",
    "version": 3
   },
   "file_extension": ".py",
   "mimetype": "text/x-python",
   "name": "python",
   "nbconvert_exporter": "python",
   "pygments_lexer": "ipython3",
   "version": "3.11.5"
  }
 },
 "nbformat": 4,
 "nbformat_minor": 2
}
